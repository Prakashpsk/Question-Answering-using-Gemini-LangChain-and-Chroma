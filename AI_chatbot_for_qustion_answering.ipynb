{
 "cells": [
  {
   "cell_type": "code",
   "execution_count": 1,
   "id": "1bf13ff2-5496-406b-95ef-a6eaa55d5c65",
   "metadata": {},
   "outputs": [
    {
     "name": "stdin",
     "output_type": "stream",
     "text": [
      "Gemini API Key: ········\n"
     ]
    }
   ],
   "source": [
    "# Run this cell and paste the API key in the prompt\n",
    "import os\n",
    "import getpass\n",
    "\n",
    "os.environ['GOOGLE_API_KEY'] = getpass.getpass('Gemini API Key:')"
   ]
  },
  {
   "cell_type": "code",
   "execution_count": 2,
   "id": "43df8bac-d0dc-4fca-86c4-d9967c653d85",
   "metadata": {},
   "outputs": [
    {
     "name": "stderr",
     "output_type": "stream",
     "text": [
      "USER_AGENT environment variable not set, consider setting it to identify your requests.\n"
     ]
    }
   ],
   "source": [
    "from langchain import PromptTemplate\n",
    "from langchain import hub\n",
    "from langchain.document_loaders import WebBaseLoader\n",
    "from langchain.schema import StrOutputParser\n",
    "from langchain.schema.prompt_template import format_document\n",
    "from langchain.schema.runnable import RunnablePassthrough\n",
    "from langchain.vectorstores import Chroma"
   ]
  },
  {
   "cell_type": "code",
   "execution_count": 3,
   "id": "e63b256a-e63c-4261-aed2-3310544a63d6",
   "metadata": {},
   "outputs": [],
   "source": [
    "import re\n",
    "from bs4 import BeautifulSoup\n",
    "from langchain.document_loaders import WebBaseLoader\n",
    "from langchain.docstore.document import Document"
   ]
  },
  {
   "cell_type": "code",
   "execution_count": 4,
   "id": "b097a3c9-b1a2-40db-aa14-c6c738713c7c",
   "metadata": {},
   "outputs": [],
   "source": [
    "# 5. Load the article from web\n",
    "loader = WebBaseLoader(\"https://economictimes.indiatimes.com/markets/stocks/news/rs-26-lakh-crore-richer-in-a-week-what-should-stock-market-investors-do-now/articleshow/121244746.cms\")\n",
    "docs = loader.load()"
   ]
  },
  {
   "cell_type": "code",
   "execution_count": 5,
   "id": "30b5d408-583e-41ff-9f70-282b804cb609",
   "metadata": {},
   "outputs": [
    {
     "data": {
      "text/plain": [
       "\"Sensex Nifty Outlook: Rs 26 lakh crore richer in a week! What should stock market investors do now? - The Economic Times  Benchmarks Nifty25,019.80-42.3Precious Metal Gold (MCX) (Rs/10g.)92,480.00-689.0Enter search text:English EditionEnglish Editionहिन्दीગુજરાતીमराठीবাংলাಕನ್ನಡമലയാളംதமிழ்తెలుగు | Today's ePaper\\n            \\t\\t\\t        My Watchlist\\n                            SubscribeSign InHomeETPrimeMarketsMarket DataAI Masterclass NewsIndustrySMEPoliticsWealthMFTechAICareersOpinionNRIPanacheMore MenuStocksNewsLive BlogStock Live BlogEarningsPodcastMarket ClassroomDons of Dalal StreetRecosStock Reports PlusNewMy ScreenerCandlestick ScreenerStock ScreenerStock WatchMarket CalendarStock Price QuotesOptionsIPOs/FPOsExpert ViewsInvestment IdeasCommoditiesViewsNewsOthersMentha OilPrecious MetalsGold MGoldSilverGold PetalSilver MicroSilver MGold GuineaOil & EnergyNatural GasCrude OilCrude Oil MiniBase MetalsAluminiumZinc MiniLead MiniCopperZincNickelAluminium MiniLeadPlantationKapasCotton C\""
      ]
     },
     "execution_count": 5,
     "metadata": {},
     "output_type": "execute_result"
    }
   ],
   "source": [
    "# Before Preprocessing \n",
    "docs[0].page_content[:1000]"
   ]
  },
  {
   "cell_type": "code",
   "execution_count": null,
   "id": "c4cf487a-6b2c-4c4a-b15a-3f3e1970587a",
   "metadata": {},
   "outputs": [],
   "source": [
    "# List of non-English language labels to remove1154\n",
    "NON_ENGLISH_LABELS = [\n",
    "    'हिन्दी', 'ગુજરાતી', 'मराठी', 'বাংলা',\n",
    "    'ಕನ್ನಡ', 'മലയാളം', 'தமிழ்', 'తెలుగు',\n",
    "    'اردو', 'ଓଡ଼ିଆ', 'ਪੰਜਾਬੀ'\n",
    "]\n",
    "\n",
    "# 1. Remove non-English language menu items\n",
    "def remove_non_english_language_menu(text):\n",
    "    pattern = r'(' + '|'.join(re.escape(lang) for lang in NON_ENGLISH_LABELS) + r')(\\s*\\|\\s*)?'\n",
    "    return re.sub(pattern, '', text)\n",
    "\n",
    "# 2. Remove UI-style date junk like \"PM | 16 May\"\n",
    "def remove_ui_date_patterns(text):\n",
    "    return re.sub(r'\\b(AM|PM)\\s*\\|\\s*\\d{1,2}\\s+\\w+\\b', '', text)\n",
    "\n",
    "# 3. Fix spacing issues like \"PlusNewMy\" → \"Plus New My\"\n",
    "def fix_missing_spaces(text):\n",
    "    # Add space between lowercase-uppercase and digit-uppercase\n",
    "    text = re.sub(r'(?<=[a-z])(?=[A-Z])', ' ', text)\n",
    "    text = re.sub(r'(?<=[0-9])(?=[A-Z])', ' ', text)\n",
    "    # Normalize extra spaces\n",
    "    return re.sub(r'\\s{2,}', ' ', text).strip()\n",
    "\n",
    "# 4. Main preprocessing function\n",
    "def preprocess_text(raw_html):\n",
    "    # a. Remove HTML tags\n",
    "    soup = BeautifulSoup(raw_html, \"html.parser\")\n",
    "    text = soup.get_text(separator=\"\\n\")\n",
    "\n",
    "    # b. Normalize whitespace\n",
    "    text = re.sub(r'\\s+', ' ', text)\n",
    "\n",
    "    # c. Remove unwanted menu and patterns\n",
    "    text = remove_non_english_language_menu(text)\n",
    "    text = remove_ui_date_patterns(text)\n",
    "    text = fix_missing_spaces(text)\n",
    "\n",
    "    return text.strip()\n",
    "\n",
    "# 5. Extract raw text from the first document\n",
    "raw_text = docs[0].page_content\n",
    "\n",
    "# 6. Preprocess the text\n",
    "final_text = preprocess_text(raw_text)\n",
    "\n",
    "# 7. Convert to LangChain Document format\n",
    "final_docs = [Document(page_content=final_text, metadata={\"source\": \"local\"})]\n"
   ]
  },
  {
   "cell_type": "markdown",
   "id": "93578b78-64d7-409c-974d-52ff3c823944",
   "metadata": {},
   "source": [
    "BeautifulSoup in This Project?\n",
    "|  Purpose                         |  How It Helps                                             |\n",
    "| ---------------------------------- | ----------------------------------------------------------- |\n",
    "| Extract clean data from websites   | Turns messy HTML into usable context for your QA system     |\n",
    "| Feed real-world documents into RAG | Enables dynamic context generation (live news, blogs, etc.) |\n",
    "| Automate content ingestion         | Ideal for scraping multiple pages as context for answering  |\n"
   ]
  },
  {
   "cell_type": "code",
   "execution_count": 7,
   "id": "175956e0-cbb5-49e1-9ca4-0f30d64c0a99",
   "metadata": {
    "scrolled": true
   },
   "outputs": [
    {
     "name": "stdout",
     "output_type": "stream",
     "text": [
      "Sensex Nifty Outlook: Rs 26 lakh crore richer in a week! What should stock market investors do now? - The Economic Times Benchmarks Nifty25,019.80-42.3 Precious Metal Gold (MCX) (Rs/10g.)92,480.00-689.0 Enter search text:English Edition English Edition Today's e Paper My Watchlist Subscribe Sign In Home ETPrime Markets Market Data AI Masterclass News Industry SMEPolitics Wealth MFTech AICareers Opinion NRIPanache More Menu Stocks News Live Blog Stock Live Blog Earnings Podcast Market Classroom Dons of Dalal Street Recos Stock Reports Plus New My Screener Candlestick Screener Stock Screener Stock Watch Market Calendar Stock Price Quotes Options IPOs/FPOs Expert Views Investment Ideas Commodities Views News Others Mentha Oil Precious Metals Gold MGold Silver Gold Petal Silver Micro Silver MGold Guinea Oil & Energy Natural Gas Crude Oil Crude Oil Mini Base Metals Aluminium Zinc Mini Lead Mini Copper Zinc Nickel Aluminium Mini Lead Plantation Kapas Cotton Candy Forex Forex News Currency Co\n"
     ]
    }
   ],
   "source": [
    "# 8. After Preprocessing Preview result\n",
    "print(final_docs[0].page_content[:1000])  # print only first 1000 characters"
   ]
  },
  {
   "cell_type": "code",
   "execution_count": 8,
   "id": "96db54d5-c01d-4ebd-962e-ee212b5c103c",
   "metadata": {},
   "outputs": [],
   "source": [
    "from langchain_google_genai import GoogleGenerativeAIEmbeddings"
   ]
  },
  {
   "cell_type": "code",
   "execution_count": 9,
   "id": "62bd440e-acf4-443f-9ad8-325bd37fc0a4",
   "metadata": {},
   "outputs": [],
   "source": [
    "gemini_embeddings = GoogleGenerativeAIEmbeddings(model=\"models/embedding-001\")"
   ]
  },
  {
   "cell_type": "code",
   "execution_count": 10,
   "id": "4bd2cc2b-6afe-4983-ba63-69e35b65deb7",
   "metadata": {},
   "outputs": [],
   "source": [
    "# Save to disk\n",
    "vectorstore = Chroma.from_documents(\n",
    "                     documents=final_docs,           # Data\n",
    "                     embedding=gemini_embeddings,    # Embedding model\n",
    "                     persist_directory=\"./chroma_db\" # Directory to save data\n",
    "                     )"
   ]
  },
  {
   "cell_type": "code",
   "execution_count": 15,
   "id": "dff1f106-8c2d-4a82-bee7-3085fa1b1c19",
   "metadata": {},
   "outputs": [],
   "source": [
    "# Load from disk\n",
    "vectorstore_disk = Chroma(\n",
    "                        persist_directory=\"./chroma_db\",       # Directory of db\n",
    "                        embedding_function=gemini_embeddings)   # Embedding model\n"
   ]
  },
  {
   "cell_type": "code",
   "execution_count": 16,
   "id": "89dc8d9e-01a1-4dd1-932c-1488db4e7fe7",
   "metadata": {},
   "outputs": [],
   "source": [
    "retriever = vectorstore_disk.as_retriever(search_kwargs={\"k\": 1})"
   ]
  },
  {
   "cell_type": "code",
   "execution_count": 17,
   "id": "f8536cfb-433d-4a84-862a-2ae3479cdc52",
   "metadata": {},
   "outputs": [
    {
     "name": "stderr",
     "output_type": "stream",
     "text": [
      "C:\\Users\\Prakash Enerprener\\AppData\\Local\\Temp\\ipykernel_15356\\3297698566.py:1: LangChainDeprecationWarning: The method `BaseRetriever.get_relevant_documents` was deprecated in langchain-core 0.1.46 and will be removed in 1.0. Use :meth:`~invoke` instead.\n",
      "  print(len(retriever.get_relevant_documents(\"MMLU\")))\n"
     ]
    },
    {
     "name": "stdout",
     "output_type": "stream",
     "text": [
      "1\n"
     ]
    }
   ],
   "source": [
    "print(len(retriever.get_relevant_documents(\"MMLU\")))"
   ]
  },
  {
   "cell_type": "code",
   "execution_count": 13,
   "id": "5c4f0785-db51-4611-9fdc-a74ad6a0ab36",
   "metadata": {},
   "outputs": [],
   "source": [
    "from langchain_google_genai import ChatGoogleGenerativeAI\n",
    "\n",
    "# If there is no environment variable set for the API key, you can pass the API\n",
    "# key to the parameter `google_api_key` of the `ChatGoogleGenerativeAI` function:\n",
    "# `google_api_key=\"key\"`.\n",
    "llm = ChatGoogleGenerativeAI(model=\"gemini-1.5-flash\",\n",
    "                 temperature=0.7, top_p=0.85)\n",
    "# Allowing moderate creativity (temperature=0.7)\n",
    "# Letting the model sample from top 85% likely words, ignoring the rest (top_p=0.85)"
   ]
  },
  {
   "cell_type": "code",
   "execution_count": 23,
   "id": "452cd7a7-faa2-40cb-86ef-69871a34b1f6",
   "metadata": {},
   "outputs": [
    {
     "name": "stdout",
     "output_type": "stream",
     "text": [
      "input_variables=['context', 'question'] input_types={} partial_variables={} template=\"You are an assistant for question-answering tasks.\\nUse the following context to answer the question.\\nIf you don't know the answer, just say that you don't know.\\nUse five sentences maximum and keep the answer concise.\\n\\nQuestion: {question} \\nContext: {context} \\nAnswer:\"\n"
     ]
    }
   ],
   "source": [
    "# Prompt template to query Gemini\n",
    "llm_prompt_template = \"\"\"You are an assistant for question-answering tasks.\n",
    "Use the following context to answer the question.\n",
    "If you don't know the answer, just say that you don't know.\n",
    "Use five sentences maximum and keep the answer concise.\\n\n",
    "Question: {question} \\nContext: {context} \\nAnswer:\"\"\"\n",
    "\n",
    "llm_prompt = PromptTemplate.from_template(llm_prompt_template)\n",
    "\n",
    "print(llm_prompt)"
   ]
  },
  {
   "cell_type": "code",
   "execution_count": 24,
   "id": "b584d6f1-3403-4b96-84c8-afceb09f0eee",
   "metadata": {},
   "outputs": [],
   "source": [
    "# Combine data from documents to readable string format.\n",
    "def format_docs(docs):\n",
    "    return \"\\n\\n\".join(doc.page_content for doc in docs)\n",
    "\n",
    "# Create stuff documents chain using LCEL.\n",
    "#\n",
    "# This is called a chain because you are chaining together different elements\n",
    "# with the LLM. In the following example, to create the stuff chain, you will\n",
    "# combine the relevant context from the website data matching the question, the\n",
    "# LLM model, and the output parser together like a chain using LCEL.\n",
    "#\n",
    "# The chain implements the following pipeline:\n",
    "# 1. Extract the website data relevant to the question from the Chroma\n",
    "#    vector store and save it to the variable `context`.\n",
    "# 2. `RunnablePassthrough` option to provide `question` when invoking\n",
    "#    the chain.\n",
    "# 3. The `context` and `question` are then passed to the prompt where they\n",
    "#    are populated in the respective variables.\n",
    "# 4. This prompt is then passed to the LLM (`gemini-pro`).\n",
    "# 5. Output from the LLM is passed through an output parser\n",
    "#    to structure the model's response.\n",
    "rag_chain = (\n",
    "    {\"context\": retriever | format_docs, \"question\": RunnablePassthrough()}\n",
    "    | llm_prompt\n",
    "    | llm\n",
    "    | StrOutputParser()\n",
    ")"
   ]
  },
  {
   "cell_type": "markdown",
   "id": "56c7659f-c091-49f6-912b-8ca29b973445",
   "metadata": {},
   "source": [
    "Model Testing Using Query"
   ]
  },
  {
   "cell_type": "code",
   "execution_count": 25,
   "id": "19ff9c2e-eb7b-4fec-babe-c9c206f35e98",
   "metadata": {},
   "outputs": [
    {
     "data": {
      "text/plain": [
       "'I am sorry, but this document does not contain any information about Gemini.  Therefore, I cannot answer your question.'"
      ]
     },
     "execution_count": 25,
     "metadata": {},
     "output_type": "execute_result"
    }
   ],
   "source": [
    "rag_chain.invoke(\"What is Gemini?\")"
   ]
  },
  {
   "cell_type": "code",
   "execution_count": 27,
   "id": "b70904e1-79cd-4c13-8a00-1c8db57ed9d0",
   "metadata": {},
   "outputs": [
    {
     "data": {
      "text/plain": [
       "'Approximately Rs 26.5 lakh crore of investor wealth was added to the Indian stock market in the past week.  This surge was fueled by a ceasefire between India and Pakistan, low inflation, and strong foreign institutional investor (FII) flows.  The Nifty index is now close to its all-time high.  However, experts caution about valuation risks, particularly in mid- and small-cap stocks.'"
      ]
     },
     "execution_count": 27,
     "metadata": {},
     "output_type": "execute_result"
    }
   ],
   "source": [
    "rag_chain.invoke(\"How much investor wealth was added in the Indian stock market in the past week?\")"
   ]
  },
  {
   "cell_type": "code",
   "execution_count": 28,
   "id": "f00a9264-8788-4dc4-8891-49f23fd98690",
   "metadata": {},
   "outputs": [
    {
     "data": {
      "text/plain": [
       "'The stock market rally was driven by a ceasefire between India and Pakistan, significantly reducing geopolitical tensions.  Low inflation, at a nearly six-year low, fueled hopes of a dovish RBI policy.  Strong foreign institutional investor (FII) inflows, totaling ₹15,925 crore, also contributed.  Broader gains across mid-cap and infrastructure sectors further boosted optimism. However, experts cautioned about valuation risks, particularly in mid- and small-cap stocks.'"
      ]
     },
     "execution_count": 28,
     "metadata": {},
     "output_type": "execute_result"
    }
   ],
   "source": [
    "rag_chain.invoke(\"What were the key reasons behind the recent stock market rally mentioned in the article?\")"
   ]
  },
  {
   "cell_type": "code",
   "execution_count": 29,
   "id": "1dac5f1f-2df7-4b1f-9284-10d1d39f5788",
   "metadata": {},
   "outputs": [
    {
     "data": {
      "text/plain": [
       "\"A surprise ceasefire between India and Pakistan significantly reduced geopolitical tensions, triggering optimism.  This was followed by positive economic data, including lower inflation and increased foreign investment.  Stronger-than-expected Q4 earnings also contributed to the market's positive response. The combination of these factors fueled a sharp rise in the Sensex and Nifty.  Experts, however, cautioned about valuation risks, particularly in mid- and small-cap stocks.\""
      ]
     },
     "execution_count": 29,
     "metadata": {},
     "output_type": "execute_result"
    }
   ],
   "source": [
    "rag_chain.invoke(\"What geopolitical event triggered optimism in the markets according to the article?\")"
   ]
  },
  {
   "cell_type": "code",
   "execution_count": 30,
   "id": "0b3bd96e-a419-4885-b5f7-b04f00c0b1d2",
   "metadata": {},
   "outputs": [
    {
     "data": {
      "text/plain": [
       "'In April, the inflation rate was 3.16%, the lowest in almost six years.  This is significant because it suggests a dovish stance from the Reserve Bank of India (RBI) in upcoming policy meetings.  Lower inflation generally boosts market optimism and economic growth. The low inflation rate contributed to a significant rise in the Sensex and Nifty.  This positive economic indicator fueled investor confidence.'"
      ]
     },
     "execution_count": 30,
     "metadata": {},
     "output_type": "execute_result"
    }
   ],
   "source": [
    "rag_chain.invoke(\"What was the inflation rate in April, and why is it significant?\")"
   ]
  },
  {
   "cell_type": "code",
   "execution_count": 31,
   "id": "66ad7bc7-5d94-4ede-ac7d-320c8dd3b8ce",
   "metadata": {},
   "outputs": [
    {
     "data": {
      "text/plain": [
       "'The Sensex rose 2,876 points, while the Nifty surged 4.2% over the week.  This resulted in a nearly Rs 26.5 lakh crore increase in investor wealth.  The article does not provide specific starting and ending values for either index.'"
      ]
     },
     "execution_count": 31,
     "metadata": {},
     "output_type": "execute_result"
    }
   ],
   "source": [
    "rag_chain.invoke(\"How much did the Sensex and Nifty rise over the week?\")"
   ]
  },
  {
   "cell_type": "code",
   "execution_count": 34,
   "id": "b94a5262-3c2c-4579-a068-e8aaa3aeedca",
   "metadata": {},
   "outputs": [
    {
     "data": {
      "text/plain": [
       "'The RBI is expected to maintain an accommodative stance in its next policy decision due to low inflation (3.16%, the lowest in nearly six years).  This low inflation provides the RBI with room to keep interest rates low.  Experts believe this, combined with improving earnings and foreign investment, supports continued market momentum.  However, some caution valuation risks, particularly in mid- and small-cap stocks.'"
      ]
     },
     "execution_count": 34,
     "metadata": {},
     "output_type": "execute_result"
    }
   ],
   "source": [
    "rag_chain.invoke(\"What is the RBI expected to do in its next policy decision, and why?\")"
   ]
  },
  {
   "cell_type": "markdown",
   "id": "37c9403b-d4d1-4806-a97f-44ff3ad92ab1",
   "metadata": {},
   "source": [
    "RAGAS Evaluation"
   ]
  },
  {
   "cell_type": "code",
   "execution_count": 2,
   "id": "4960b3fb-851b-49e9-86a5-265dc2d5f430",
   "metadata": {},
   "outputs": [
    {
     "name": "stdout",
     "output_type": "stream",
     "text": [
      "['AgentGoalAccuracyWithReference', 'AgentGoalAccuracyWithoutReference', 'AnswerAccuracy', 'AnswerCorrectness', 'AnswerRelevancy', 'AnswerSimilarity', 'AspectCritic', 'BleuScore', 'ContextEntityRecall', 'ContextPrecision', 'ContextRecall', 'ContextRelevance', 'ContextUtilization', 'DataCompyScore', 'DistanceMeasure', 'ExactMatch', 'FactualCorrectness', 'Faithfulness', 'FaithfulnesswithHHEM', 'InstanceRubrics', 'LLMContextPrecisionWithReference', 'LLMContextPrecisionWithoutReference', 'LLMContextRecall', 'LLMSQLEquivalence', 'Metric', 'MetricOutputType', 'MetricType', 'MetricWithEmbeddings', 'MetricWithLLM', 'MultiModalFaithfulness', 'MultiModalRelevance', 'MultiTurnMetric', 'NoiseSensitivity', 'NonLLMContextPrecisionWithReference', 'NonLLMContextRecall', 'NonLLMStringSimilarity', 'ResponseGroundedness', 'ResponseRelevancy', 'RougeScore', 'RubricsScore', 'SemanticSimilarity', 'SimpleCriteriaScore', 'SingleTurnMetric', 'StringPresence', 'SummarizationScore', 'ToolCallAccuracy', 'TopicAdherenceScore', '__all__', '__builtins__', '__cached__', '__doc__', '__file__', '__loader__', '__name__', '__package__', '__path__', '__spec__', '_answer_correctness', '_answer_relevance', '_answer_similarity', '_aspect_critic', '_bleu_score', '_context_entities_recall', '_context_precision', '_context_recall', '_datacompy_score', '_domain_specific_rubrics', '_factual_correctness', '_faithfulness', '_goal_accuracy', '_instance_specific_rubrics', '_multi_modal_faithfulness', '_multi_modal_relevance', '_noise_sensitivity', '_nv_metrics', '_rouge_score', '_simple_criteria', '_sql_semantic_equivalence', '_string', '_summarization', '_tool_call_accuracy', '_topic_adherence', 'answer_correctness', 'answer_relevancy', 'answer_similarity', 'base', 'context_entity_recall', 'context_precision', 'context_recall', 'faithfulness', 'multimodal_faithness', 'multimodal_relevance', 'summarization_score', 'utils']\n"
     ]
    }
   ],
   "source": [
    "import ragas.metrics as metrics\n",
    "print(dir(metrics))\n"
   ]
  },
  {
   "cell_type": "code",
   "execution_count": 6,
   "id": "5ff945d9-95aa-4886-b5a7-ecdfc8acc2bd",
   "metadata": {},
   "outputs": [],
   "source": [
    "from ragas.metrics import faithfulness, answer_correctness, context_precision, context_recall\n",
    "from ragas import evaluate\n",
    "from datasets import Dataset"
   ]
  },
  {
   "cell_type": "code",
   "execution_count": 7,
   "id": "84e8712d-f976-49f7-b9e0-2a1acf560511",
   "metadata": {},
   "outputs": [
    {
     "name": "stderr",
     "output_type": "stream",
     "text": [
      "Exception raised in Job[7]: RateLimitError(Error code: 429 - {'error': {'message': 'You exceeded your current quota, please check your plan and billing details. For more information on this error, read the docs: https://platform.openai.com/docs/guides/error-codes/api-errors.', 'type': 'insufficient_quota', 'param': None, 'code': 'insufficient_quota'}})\n",
      "Exception raised in Job[13]: RateLimitError(Error code: 429 - {'error': {'message': 'You exceeded your current quota, please check your plan and billing details. For more information on this error, read the docs: https://platform.openai.com/docs/guides/error-codes/api-errors.', 'type': 'insufficient_quota', 'param': None, 'code': 'insufficient_quota'}})\n",
      "Exception raised in Job[6]: RateLimitError(Error code: 429 - {'error': {'message': 'You exceeded your current quota, please check your plan and billing details. For more information on this error, read the docs: https://platform.openai.com/docs/guides/error-codes/api-errors.', 'type': 'insufficient_quota', 'param': None, 'code': 'insufficient_quota'}})\n",
      "Exception raised in Job[5]: RateLimitError(Error code: 429 - {'error': {'message': 'You exceeded your current quota, please check your plan and billing details. For more information on this error, read the docs: https://platform.openai.com/docs/guides/error-codes/api-errors.', 'type': 'insufficient_quota', 'param': None, 'code': 'insufficient_quota'}})\n",
      "Exception raised in Job[9]: RateLimitError(Error code: 429 - {'error': {'message': 'You exceeded your current quota, please check your plan and billing details. For more information on this error, read the docs: https://platform.openai.com/docs/guides/error-codes/api-errors.', 'type': 'insufficient_quota', 'param': None, 'code': 'insufficient_quota'}})\n",
      "Exception raised in Job[10]: RateLimitError(Error code: 429 - {'error': {'message': 'You exceeded your current quota, please check your plan and billing details. For more information on this error, read the docs: https://platform.openai.com/docs/guides/error-codes/api-errors.', 'type': 'insufficient_quota', 'param': None, 'code': 'insufficient_quota'}})\n",
      "Exception raised in Job[14]: RateLimitError(Error code: 429 - {'error': {'message': 'You exceeded your current quota, please check your plan and billing details. For more information on this error, read the docs: https://platform.openai.com/docs/guides/error-codes/api-errors.', 'type': 'insufficient_quota', 'param': None, 'code': 'insufficient_quota'}})\n",
      "Exception raised in Job[3]: RateLimitError(Error code: 429 - {'error': {'message': 'You exceeded your current quota, please check your plan and billing details. For more information on this error, read the docs: https://platform.openai.com/docs/guides/error-codes/api-errors.', 'type': 'insufficient_quota', 'param': None, 'code': 'insufficient_quota'}})\n",
      "Exception raised in Job[2]: RateLimitError(Error code: 429 - {'error': {'message': 'You exceeded your current quota, please check your plan and billing details. For more information on this error, read the docs: https://platform.openai.com/docs/guides/error-codes/api-errors.', 'type': 'insufficient_quota', 'param': None, 'code': 'insufficient_quota'}})\n",
      "Exception raised in Job[0]: RateLimitError(Error code: 429 - {'error': {'message': 'You exceeded your current quota, please check your plan and billing details. For more information on this error, read the docs: https://platform.openai.com/docs/guides/error-codes/api-errors.', 'type': 'insufficient_quota', 'param': None, 'code': 'insufficient_quota'}})\n",
      "Exception raised in Job[4]: RateLimitError(Error code: 429 - {'error': {'message': 'You exceeded your current quota, please check your plan and billing details. For more information on this error, read the docs: https://platform.openai.com/docs/guides/error-codes/api-errors.', 'type': 'insufficient_quota', 'param': None, 'code': 'insufficient_quota'}})\n",
      "Exception raised in Job[15]: RateLimitError(Error code: 429 - {'error': {'message': 'You exceeded your current quota, please check your plan and billing details. For more information on this error, read the docs: https://platform.openai.com/docs/guides/error-codes/api-errors.', 'type': 'insufficient_quota', 'param': None, 'code': 'insufficient_quota'}})\n",
      "Exception raised in Job[11]: RateLimitError(Error code: 429 - {'error': {'message': 'You exceeded your current quota, please check your plan and billing details. For more information on this error, read the docs: https://platform.openai.com/docs/guides/error-codes/api-errors.', 'type': 'insufficient_quota', 'param': None, 'code': 'insufficient_quota'}})\n",
      "Exception raised in Job[12]: RateLimitError(Error code: 429 - {'error': {'message': 'You exceeded your current quota, please check your plan and billing details. For more information on this error, read the docs: https://platform.openai.com/docs/guides/error-codes/api-errors.', 'type': 'insufficient_quota', 'param': None, 'code': 'insufficient_quota'}})\n",
      "Exception raised in Job[1]: TimeoutError()████████████████████████                     | 14/20 [02:58<00:43,  7.26s/it]\n",
      "Exception raised in Job[8]: TimeoutError()\n",
      "Exception raised in Job[17]: RateLimitError(Error code: 429 - {'error': {'message': 'You exceeded your current quota, please check your plan and billing details. For more information on this error, read the docs: https://platform.openai.com/docs/guides/error-codes/api-errors.', 'type': 'insufficient_quota', 'param': None, 'code': 'insufficient_quota'}})\n",
      "Exception raised in Job[19]: RateLimitError(Error code: 429 - {'error': {'message': 'You exceeded your current quota, please check your plan and billing details. For more information on this error, read the docs: https://platform.openai.com/docs/guides/error-codes/api-errors.', 'type': 'insufficient_quota', 'param': None, 'code': 'insufficient_quota'}})\n",
      "Exception raised in Job[18]: RateLimitError(Error code: 429 - {'error': {'message': 'You exceeded your current quota, please check your plan and billing details. For more information on this error, read the docs: https://platform.openai.com/docs/guides/error-codes/api-errors.', 'type': 'insufficient_quota', 'param': None, 'code': 'insufficient_quota'}})\n",
      "Exception raised in Job[16]: RateLimitError(Error code: 429 - {'error': {'message': 'You exceeded your current quota, please check your plan and billing details. For more information on this error, read the docs: https://platform.openai.com/docs/guides/error-codes/api-errors.', 'type': 'insufficient_quota', 'param': None, 'code': 'insufficient_quota'}})\n",
      "Evaluating: 100%|██████████████████████████████████████████████████████████████████████| 20/20 [04:10<00:00, 12.52s/it]\n"
     ]
    },
    {
     "name": "stdout",
     "output_type": "stream",
     "text": [
      "{'faithfulness': nan, 'answer_correctness': nan, 'context_precision': nan, 'context_recall': nan}\n"
     ]
    }
   ],
   "source": [
    "# Step 1: Prepare Data\n",
    "data = {\n",
    "    \"question\": [\n",
    "        \"What were the primary drivers behind the ₹26 lakh crore surge in investor wealth over the past week?\",\n",
    "        \"How did geopolitical developments, such as the ceasefire between India and Pakistan, influence the market rally?\",\n",
    "        \"What role did the drop in April inflation to 3.16% play in boosting investor confidence?\",\n",
    "        \"Which sectors showed the most growth during this rally, and why were midcap and small-cap stocks particularly affected?\",\n",
    "        \"What levels should investors watch for Nifty's support and resistance, according to analysts?\"\n",
    "    ],\n",
    "    \n",
    "    \"answer\": [\n",
    "        \"The surge was driven by geopolitical relief (ceasefire), low inflation, strong FII inflows, and a breakout from a three-week range. This led to a ₹26.5 lakh crore increase in investor wealth as Sensex and Nifty soared.\",\n",
    "        \"The surprise ceasefire between India and Pakistan eased geopolitical tensions, which significantly boosted investor sentiment and contributed to the strong market rally.\",\n",
    "        \"The drop in April inflation to 3.16%, the lowest in six years, raised hopes of a dovish RBI stance, increasing investor confidence and fueling the rally.\",\n",
    "        \"Defence, metals, NBFCs, and auto sectors led the rally. Midcap and small-cap stocks gained 7–9% due to broad market optimism, but concerns remain due to their high valuations.\",\n",
    "        \"Analysts suggest resistance for Nifty at 25,200–25,600 levels and support at 24,800 and stronger at 24,400. A buy-on-dips strategy is recommended with sector rotation in mind.\"\n",
    "    ],\n",
    "    \n",
    "    \"contexts\": [\n",
    "        [\"Markets soared as geopolitical relief, soft inflation, and strong FII flows lifted Sensex and Nifty sharply. Nearly ₹26.5 lakh crore in investor wealth was created in just one week.\"],\n",
    "        [\"A surprise ceasefire between India and Pakistan slashed geopolitical tension overnight, boosting market sentiment.\"],\n",
    "        [\"April inflation dropped to 3.16%, the lowest in nearly six years, giving RBI room to remain accommodative and improving investor outlook.\"],\n",
    "        [\"Midcap and small-cap indices jumped 7% and 9% respectively. Defence and infrastructure sectors led gains, although valuations are now stretched.\"],\n",
    "        [\"The Nifty broke out of a 3-week range. Analysts see resistance at 25,200–25,600, and support at 24,800 and 24,400. A buy-on-dips strategy is advised.\"]\n",
    "    ],\n",
    "    \n",
    "    \"ground_truth\": [\n",
    "        \"Investor wealth surged ₹26.5 lakh crore due to factors like geopolitical relief (ceasefire), low inflation (3.16%), strong foreign inflows (₹15,925 crore), and broader sector participation including midcaps and small-caps.\",\n",
    "        \"The ceasefire announcement between India and Pakistan significantly reduced geopolitical risks, which contributed to improved market sentiment and was one of the main triggers for the rally.\",\n",
    "        \"The inflation drop to 3.16% raised expectations of a dovish RBI policy, boosting market optimism and allowing continued foreign investments.\",\n",
    "        \"Sectors such as defence, metals, NBFCs, and auto performed strongly. Midcap and small-cap stocks rose due to broader market participation and FOMO, although valuation risks remain high.\",\n",
    "        \"Nifty's resistance levels are around 25,200–25,600, and support levels are 24,800 and 24,400. Analysts recommend a buy-on-dips strategy and caution on overvalued segments.\"\n",
    "    ]\n",
    "}\n",
    "\n",
    "# Step 2: Create HuggingFace Dataset\n",
    "dataset = Dataset.from_dict(data)\n",
    "\n",
    "# Step 3: Evaluate with RAGAS\n",
    "results = evaluate(\n",
    "    dataset,\n",
    "    metrics=[faithfulness, answer_correctness, context_precision, context_recall]\n",
    ")\n",
    "\n",
    "# Step 4: Display Results\n",
    "print(results)"
   ]
  },
  {
   "cell_type": "code",
   "execution_count": null,
   "id": "cfb10e7c-068b-4cab-b0f4-556f33e66e60",
   "metadata": {},
   "outputs": [],
   "source": [
    "# Step 1: Prepare Data\n",
    "data = {\n",
    "    \"question\": [\n",
    "        \"What were the primary drivers behind the ₹26 lakh crore surge in investor wealth over the past week?\",\n",
    "        \"How did geopolitical developments, such as the ceasefire between India and Pakistan, influence the market rally?\",\n",
    "        \"What role did the drop in April inflation to 3.16% play in boosting investor confidence?\",\n",
    "        \"Which sectors showed the most growth during this rally, and why were midcap and small-cap stocks particularly affected?\",\n",
    "        \"What levels should investors watch for Nifty's support and resistance, according to analysts?\"\n",
    "    ],\n",
    "    \n",
    "    \"answer\": [\n",
    "        \"The surge was driven by geopolitical relief (ceasefire), low inflation, strong FII inflows, and a breakout from a three-week range. This led to a ₹26.5 lakh crore increase in investor wealth as Sensex and Nifty soared.\",\n",
    "        \"The surprise ceasefire between India and Pakistan eased geopolitical tensions, which significantly boosted investor sentiment and contributed to the strong market rally.\",\n",
    "        \"The drop in April inflation to 3.16%, the lowest in six years, raised hopes of a dovish RBI stance, increasing investor confidence and fueling the rally.\",\n",
    "        \"Defence, metals, NBFCs, and auto sectors led the rally. Midcap and small-cap stocks gained 7–9% due to broad market optimism, but concerns remain due to their high valuations.\",\n",
    "        \"Analysts suggest resistance for Nifty at 25,200–25,600 levels and support at 24,800 and stronger at 24,400. A buy-on-dips strategy is recommended with sector rotation in mind.\"\n",
    "    ],\n",
    "    \n",
    "    \"contexts\": [\n",
    "        [\"Markets soared as geopolitical relief, soft inflation, and strong FII flows lifted Sensex and Nifty sharply. Nearly ₹26.5 lakh crore in investor wealth was created in just one week.\"],\n",
    "        [\"A surprise ceasefire between India and Pakistan slashed geopolitical tension overnight, boosting market sentiment.\"],\n",
    "        [\"April inflation dropped to 3.16%, the lowest in nearly six years, giving RBI room to remain accommodative and improving investor outlook.\"],\n",
    "        [\"Midcap and small-cap indices jumped 7% and 9% respectively. Defence and infrastructure sectors led gains, although valuations are now stretched.\"],\n",
    "        [\"The Nifty broke out of a 3-week range. Analysts see resistance at 25,200–25,600, and support at 24,800 and 24,400. A buy-on-dips strategy is advised.\"]\n",
    "    ],\n",
    "    \n",
    "    \"ground_truth\": [\n",
    "        \"Investor wealth surged ₹26.5 lakh crore due to factors like geopolitical relief (ceasefire), low inflation (3.16%), strong foreign inflows (₹15,925 crore), and broader sector participation including midcaps and small-caps.\",\n",
    "        \"The ceasefire announcement between India and Pakistan significantly reduced geopolitical risks, which contributed to improved market sentiment and was one of the main triggers for the rally.\",\n",
    "        \"The inflation drop to 3.16% raised expectations of a dovish RBI policy, boosting market optimism and allowing continued foreign investments.\",\n",
    "        \"Sectors such as defence, metals, NBFCs, and auto performed strongly. Midcap and small-cap stocks rose due to broader market participation and FOMO, although valuation risks remain high.\",\n",
    "        \"Nifty's resistance levels are around 25,200–25,600, and support levels are 24,800 and 24,400. Analysts recommend a buy-on-dips strategy and caution on overvalued segments.\"\n",
    "    ]\n",
    "}"
   ]
  },
  {
   "cell_type": "markdown",
   "id": "f2c7a868-2ee0-44f2-98e6-429229d04de0",
   "metadata": {},
   "source": [
    " RAG Evaluation Using Sentence Transformers |  RAG Evaluation Without OpenAI or Ragas"
   ]
  },
  {
   "cell_type": "code",
   "execution_count": 10,
   "id": "57554b27-cf6c-4316-bc6c-516fd6b03805",
   "metadata": {},
   "outputs": [],
   "source": [
    "from sentence_transformers import SentenceTransformer, util\n",
    "import pandas as pd\n",
    "from datasets import Dataset"
   ]
  },
  {
   "cell_type": "code",
   "execution_count": 11,
   "id": "257c6fd3-73b0-43d0-a7ea-505fad4cc095",
   "metadata": {},
   "outputs": [
    {
     "name": "stderr",
     "output_type": "stream",
     "text": [
      "C:\\Users\\Prakash Enerprener\\anaconda4\\envs\\chatbot\\Lib\\site-packages\\huggingface_hub\\file_download.py:143: UserWarning: `huggingface_hub` cache-system uses symlinks by default to efficiently store duplicated files but your machine does not support them in C:\\Users\\Prakash Enerprener\\.cache\\huggingface\\hub\\models--sentence-transformers--all-MiniLM-L6-v2. Caching files will still work but in a degraded version that might require more space on your disk. This warning can be disabled by setting the `HF_HUB_DISABLE_SYMLINKS_WARNING` environment variable. For more details, see https://huggingface.co/docs/huggingface_hub/how-to-cache#limitations.\n",
      "To support symlinks on Windows, you either need to activate Developer Mode or to run Python as an administrator. In order to activate developer mode, see this article: https://docs.microsoft.com/en-us/windows/apps/get-started/enable-your-device-for-development\n",
      "  warnings.warn(message)\n",
      "Xet Storage is enabled for this repo, but the 'hf_xet' package is not installed. Falling back to regular HTTP download. For better performance, install the package with: `pip install huggingface_hub[hf_xet]` or `pip install hf_xet`\n"
     ]
    },
    {
     "name": "stdout",
     "output_type": "stream",
     "text": [
      "                                            question  faithfulness  relevance  \\\n",
      "0  What were the primary drivers behind the ₹26 l...      0.842021   0.742444   \n",
      "1  How did geopolitical developments, such as the...      0.820882   0.751923   \n",
      "2  What role did the drop in April inflation to 3...      0.832039   0.789569   \n",
      "3  Which sectors showed the most growth during th...      0.657232   0.790945   \n",
      "4  What levels should investors watch for Nifty's...      0.846471   0.707772   \n",
      "\n",
      "   answer_correctness  \n",
      "0            0.768280  \n",
      "1            0.826204  \n",
      "2            0.814497  \n",
      "3            0.724177  \n",
      "4            0.874823  \n"
     ]
    }
   ],
   "source": [
    "\n",
    "\n",
    "# Load your dataset (use the same data as above)\n",
    "df = pd.DataFrame(data)\n",
    "\n",
    "# Load a local embedding model (free!)\n",
    "model = SentenceTransformer('all-MiniLM-L6-v2')\n",
    "\n",
    "# Helper to get average cosine similarity\n",
    "def compute_similarity(a, b):\n",
    "    emb1 = model.encode(a, convert_to_tensor=True)\n",
    "    emb2 = model.encode(b, convert_to_tensor=True)\n",
    "    return float(util.cos_sim(emb1, emb2)[0][0])\n",
    "\n",
    "# Evaluation functions\n",
    "def evaluate_row(row):\n",
    "    result = {}\n",
    "    \n",
    "    # Faithfulness ≈ answer vs context\n",
    "    result[\"faithfulness\"] = compute_similarity(row[\"answer\"], \" \".join(row[\"contexts\"]))\n",
    "\n",
    "    # Relevance ≈ answer vs question\n",
    "    result[\"relevance\"] = compute_similarity(row[\"answer\"], row[\"question\"])\n",
    "\n",
    "    # Ground truth correctness ≈ answer vs ground truth\n",
    "    result[\"answer_correctness\"] = compute_similarity(row[\"answer\"], row[\"ground_truth\"])\n",
    "    \n",
    "    return pd.Series(result)\n",
    "\n",
    "# Apply to each row\n",
    "df_scores = df.apply(evaluate_row, axis=1)\n",
    "\n",
    "# Combine with original\n",
    "final_df = pd.concat([df, df_scores], axis=1)\n",
    "\n",
    "# Show results\n",
    "print(final_df[[\"question\", \"faithfulness\", \"relevance\", \"answer_correctness\"]])\n"
   ]
  },
  {
   "cell_type": "code",
   "execution_count": null,
   "id": "64e12f00-4f65-479d-8bce-a009a9921a5e",
   "metadata": {},
   "outputs": [],
   "source": []
  }
 ],
 "metadata": {
  "kernelspec": {
   "display_name": "Python 3 (ipykernel)",
   "language": "python",
   "name": "python3"
  },
  "language_info": {
   "codemirror_mode": {
    "name": "ipython",
    "version": 3
   },
   "file_extension": ".py",
   "mimetype": "text/x-python",
   "name": "python",
   "nbconvert_exporter": "python",
   "pygments_lexer": "ipython3",
   "version": "3.11.11"
  }
 },
 "nbformat": 4,
 "nbformat_minor": 5
}
